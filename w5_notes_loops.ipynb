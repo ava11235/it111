{
  "nbformat": 4,
  "nbformat_minor": 0,
  "metadata": {
    "colab": {
      "name": "w5_notes_loops.ipynb",
      "provenance": [],
      "authorship_tag": "ABX9TyN9ZrebdVlfY6LhH3Fybz8x",
      "include_colab_link": true
    },
    "kernelspec": {
      "name": "python3",
      "display_name": "Python 3"
    }
  },
  "cells": [
    {
      "cell_type": "markdown",
      "metadata": {
        "id": "view-in-github",
        "colab_type": "text"
      },
      "source": [
        "<a href=\"https://colab.research.google.com/github/ava11235/it111/blob/master/w5_notes_loops.ipynb\" target=\"_parent\"><img src=\"https://colab.research.google.com/assets/colab-badge.svg\" alt=\"Open In Colab\"/></a>"
      ]
    },
    {
      "cell_type": "markdown",
      "metadata": {
        "id": "tyI6JjeWkoZc"
      },
      "source": [
        "**Reading**\n",
        "\n",
        "zyBooks Ch 5 Loops\n",
        "\n",
        "A loop allows the programmer to execute a group of statements multiple times. The loop executes as long as the loop condition evaluates to true.\n",
        "\n",
        "Use the `for` loop to iterate through a sequence of values.\n",
        "\n",
        "\n",
        "```\n",
        "for <i> in <sequence>:\n",
        "   <body>\n",
        "\n",
        "```\n",
        "`i` is a common loop variable name, but not a requirement. \n",
        "\n",
        "How does the for loop work? \n",
        "The loop variable takes on each successive value in the sequence, and the statements in the body of the loop are executed once for each value.\n",
        "\n",
        "Examples of `for` loop uses: \n",
        "\n",
        "Handle a series of numbers. For example,  if there are n numbers, the loop should execute n times.\n",
        "Keeping track of a running sum.\n",
        "\n",
        "\n",
        "**Reference**\n",
        "\n",
        "Python visualizer (http://www.pythontutor.com/visualize.html#mode=edit.)\n",
        "\n",
        "Interactive tutorial on for loops: (https://www.w3schools.com/python/python_for_loops.asp)\n",
        "\n",
        "Interactive tutorial on while loops: (https://www.w3schools.com/python/python_while_loops.asp)\n",
        "\n",
        "**Practice**\n",
        "\n",
        "zyBooks Ch 5 Loops Participation Activities\n",
        "\n",
        "**Learning Outcomes**\n",
        "\n",
        "\n",
        "*   Loop basics\n",
        "*   For loops\n",
        "*   While loops\n",
        "*   range() function \n",
        "*   Nested loops\n",
        "*   Using break and continue \n",
        "*   The loop...else construct\n",
        "\n",
        "\n",
        "\n",
        "**Example**\n",
        "\n",
        "Calculate the average of a set of numbers with a for loop"
      ]
    },
    {
      "cell_type": "code",
      "metadata": {
        "id": "m6rjQe6Mlro5",
        "outputId": "17791dca-9e34-4a85-8298-91ae5c203605",
        "colab": {
          "base_uri": "https://localhost:8080/",
          "height": 104
        }
      },
      "source": [
        "    n = int(input(\"How many numbers do you have? \"))\n",
        "    sum = 0.0\n",
        "    for i in range(n):\n",
        "        x = float(input(\"Enter a number:  \"))\n",
        "        sum += x\n",
        "    print(\"The average of the numbers is\", sum / n)\n"
      ],
      "execution_count": 4,
      "outputs": [
        {
          "output_type": "stream",
          "text": [
            "How many numbers do you have? 3\n",
            "Enter a number:  1\n",
            "Enter a number:  2\n",
            "Enter a number:  3\n",
            "The average of the numbers is 2.0\n"
          ],
          "name": "stdout"
        }
      ]
    },
    {
      "cell_type": "markdown",
      "metadata": {
        "id": "DGpGSbH3lyZS"
      },
      "source": [
        "A disadvantage of the above program is that you need to know ahead of time how many numbers will be averaged. This type of loop is called a definite loop.\n",
        "\n",
        "The while loop is an example of an indefinite loop, which runs until a condition is met.\n",
        "\n",
        "```\n",
        "while <condition>:\n",
        "   <body>\n",
        "\n",
        "```\n",
        "The condition is tested at the top of the loop. If the condition is initially false, the loop body will never execute. \n",
        "\n",
        "The `while` loop requires an additional consideration: the incrementing of the counter variable, `i`, at the bottom of the loop's body. This is handled automatically in the `for` loop.\n",
        "\n",
        "\n",
        "\n",
        "What would happen if we run the following code? This is an example of an infinite loop. Note that  `i `will always be `<10`, since the loop variable value never changed. This is an example of an infinite loop. (Don't try this at home.) \n",
        "\n",
        "```\n",
        "i = 0\n",
        "while i < 10:\n",
        "    print(i)\n",
        "```\n",
        "\n",
        "\n"
      ]
    },
    {
      "cell_type": "markdown",
      "metadata": {
        "id": "HRA9EW2OnCRY"
      },
      "source": [
        "While loops can be used to write interactive loops.\n",
        "\n",
        " **Example**\n",
        "\n",
        " Calculate the average of a set of numbers with a `while` loop"
      ]
    },
    {
      "cell_type": "code",
      "metadata": {
        "id": "JZ5svjo2m9Ng",
        "outputId": "341cfc47-4cae-4f5c-c666-345088357bdc",
        "colab": {
          "base_uri": "https://localhost:8080/",
          "height": 138
        }
      },
      "source": [
        "\n",
        "sum = 0.0\n",
        "count = 0\n",
        "user_input = \"y\"\n",
        "while user_input == \"y\":\n",
        "  x = float(input(\"Enter a number: \"))\n",
        "  sum += x\n",
        "  count += 1\n",
        "  user_input = input(\"Do you have more numbers (y or n)? \")\n",
        "print(\"The average of the numbers is\", sum / count)\n"
      ],
      "execution_count": 10,
      "outputs": [
        {
          "output_type": "stream",
          "text": [
            "Enter a number: 1\n",
            "Do you have more numbers (y or n)? y\n",
            "Enter a number: 2\n",
            "Do you have more numbers (y or n)? y\n",
            "Enter a number: 3\n",
            "Do you have more numbers (y or n)? n\n",
            "The average of the numbers is 2.0\n"
          ],
          "name": "stdout"
        }
      ]
    }
  ]
}