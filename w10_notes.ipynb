{
  "nbformat": 4,
  "nbformat_minor": 0,
  "metadata": {
    "colab": {
      "name": "w10_notes.ipynb",
      "provenance": [],
      "authorship_tag": "ABX9TyOS+Z3O0GFqvaB6ZyHRHs+e",
      "include_colab_link": true
    },
    "kernelspec": {
      "name": "python3",
      "display_name": "Python 3"
    }
  },
  "cells": [
    {
      "cell_type": "markdown",
      "metadata": {
        "id": "view-in-github",
        "colab_type": "text"
      },
      "source": [
        "<a href=\"https://colab.research.google.com/github/ava11235/it111/blob/master/w10_notes.ipynb\" target=\"_parent\"><img src=\"https://colab.research.google.com/assets/colab-badge.svg\" alt=\"Open In Colab\"/></a>"
      ]
    },
    {
      "cell_type": "markdown",
      "metadata": {
        "id": "RGukecNMbe8p"
      },
      "source": [
        "**Reading**\n",
        "\n",
        "*zyBooks Ch 8 Lists and Dictionaries*\n",
        "\n",
        "***Lists*** can be sequences of arbitrary values such as numbers, strings, or even other lists.\n",
        "\n",
        "A list is indexed starting from 0.\n",
        "\n",
        "Unlike strings, lists are mutable. They can be changed.\n",
        "\n",
        "Lists have methods for adding, removing and modifying their elements.\n",
        "\n",
        "[Here](https://www.w3schools.com/python/python_ref_list.asp) are the list methods.\n",
        "\n",
        "\n",
        "A **Dictionary**  is a non sequential collection and a data type in Python.\n",
        "\n",
        "A dictionary allows for accessing a value associated with a particular key. This is called a key-value pair.\n",
        "\n",
        "Collections that allow information lookup with keys, such as dictionaries,  are called mappings. Other languages refer to them as hashes or associative arrays.\n",
        "\n",
        "`<dictionary>[<key>`] returns the object with the associated key.\n",
        "\n",
        "Dictionaries are mutable and unordered.  If you want to keep the data in order, you need a sequence and not a mapping.\n",
        "\n",
        "Dictionary keys can be any immutable type, whereas values can be any type, including programmer-defined.\n",
        "\n",
        "Dictionaries also have built-in operations.\n",
        "\n",
        "[Here](https://www.w3schools.com/python/python_ref_dictionary.asp) are Python's dictionary methods. \n",
        "\n",
        "\n",
        "\n",
        "**Reference**\n",
        "\n",
        "Python visualizer (http://www.pythontutor.com/visualize.html#mode=edit.)\n",
        "\n",
        "Python lists : (https://www.w3schools.com/python/python_lists.asp) \n",
        "\n",
        "Python dictionaries: (https://www.w3schools.com/python/python_dictionaries.asp)\n",
        "\n",
        "\n",
        "**Practice**\n",
        "\n",
        "zyBooks Ch 8 Participation Activities\n",
        "\n",
        "**Learning Outcomes**\n",
        "\n",
        "Upon a successful completion of this chapter, students will be able to apply the following concepts in their programs:\n",
        "\n",
        "\n",
        "*   Lists\n",
        "*   List methods\n",
        "* Iterating over a list\n",
        "* List slicing\n",
        "* Dictionaries\n",
        "* Dictionary methods\n",
        "*Iterating over a dictionary\n",
        "\n",
        "\n",
        "**Example** \n",
        "\n",
        "Word frequency histogram. \n",
        "\n",
        "Note: In a more realistic example the words would be read from a file.\n"
      ]
    },
    {
      "cell_type": "code",
      "metadata": {
        "colab": {
          "base_uri": "https://localhost:8080/"
        },
        "id": "dYy7Yc59gLpt",
        "outputId": "ea7b40f2-42b6-4ac5-c8fc-32e8236a5699"
      },
      "source": [
        "# Word frequency histogram\n",
        "\n",
        "def main():\n",
        "    print(\"Word frequency histogram:\")\n",
        "    \n",
        "    string = \"\"\"Hi, how are you? How is your day? It is not rainy today, but it\n",
        "    was a rainy day yesterday. It was also a rainy day the day before.\n",
        "    Did you see the rainy weather?.\"\"\"\n",
        "\n",
        "    #prepare the text by converting to lower and replacing special chars with  a space\n",
        "    string = string.lower()\n",
        "    #replace special characters with a space\n",
        "    for c in '[\\\\]^_`{|}~!\"#$%&()*+,-./:;<=>?@:':\n",
        "        string = string.replace(c, ' ')\n",
        "    #split the string into a list\n",
        "    word_list = string.split()\n",
        "\n",
        "    #create a  dictionary for the word counts\n",
        "    word_counts = {}\n",
        "    for w in word_list:\n",
        "        word_counts[w] = word_counts.get(w,0) + 1 #add one to the count\n",
        "\n",
        "    uniqueWords = list(word_counts.keys())\n",
        "    uniqueWords.sort()\n",
        "\n",
        "    #output the words and respective count\n",
        "    for w in uniqueWords:\n",
        "  \n",
        "        print(\"{0:<10}{1:5}\".format(w, '*'*word_counts[w]))\n",
        "\n",
        "if __name__ == '__main__':  main()"
      ],
      "execution_count": 1,
      "outputs": [
        {
          "output_type": "stream",
          "text": [
            "Word frequency histogram:\n",
            "a         **   \n",
            "also      *    \n",
            "are       *    \n",
            "before    *    \n",
            "but       *    \n",
            "day       **** \n",
            "did       *    \n",
            "hi        *    \n",
            "how       **   \n",
            "is        **   \n",
            "it        ***  \n",
            "not       *    \n",
            "rainy     **** \n",
            "see       *    \n",
            "the       **   \n",
            "today     *    \n",
            "was       **   \n",
            "weather   *    \n",
            "yesterday *    \n",
            "you       **   \n",
            "your      *    \n"
          ],
          "name": "stdout"
        }
      ]
    }
  ]
}