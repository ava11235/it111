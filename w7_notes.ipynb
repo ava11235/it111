{
  "nbformat": 4,
  "nbformat_minor": 0,
  "metadata": {
    "colab": {
      "name": "w7_notes.ipynb",
      "provenance": [],
      "authorship_tag": "ABX9TyN4i2ckye2FiRs5nIuvbTJk",
      "include_colab_link": true
    },
    "kernelspec": {
      "name": "python3",
      "display_name": "Python 3"
    }
  },
  "cells": [
    {
      "cell_type": "markdown",
      "metadata": {
        "id": "view-in-github",
        "colab_type": "text"
      },
      "source": [
        "<a href=\"https://colab.research.google.com/github/ava11235/it111/blob/master/w7_notes.ipynb\" target=\"_parent\"><img src=\"https://colab.research.google.com/assets/colab-badge.svg\" alt=\"Open In Colab\"/></a>"
      ]
    },
    {
      "cell_type": "markdown",
      "metadata": {
        "id": "xzDrjF34H9yn"
      },
      "source": [
        "**Reading**\n",
        "\n",
        "zyBooks Ch 6 Functions 6.1 - 6.6\n",
        "\n",
        "So far we have become familiar with the following types of functions:\n",
        "\n",
        "The main() function.\n",
        "Built-in functions (len()).\n",
        "Functions from the standard libraries such as math.pow().\n",
        "\n",
        "Let's add user-defined functions to our toolkit.\n",
        "\n",
        "*What is a function?*\n",
        "\n",
        "A function is like a subprogram inside of a program. The function is comprised of a named sequence of statements. This is the function definition. The function can then be executed by calling its name.\n",
        "\n",
        "Functions can be used to reduce code duplication and make programs easier to understand and maintain.\n",
        "\n",
        "\n",
        "\n",
        "\n",
        "**Reference**\n",
        "\n",
        "Python visualizer (http://www.pythontutor.com/visualize.html#mode=edit.)\n",
        "\n",
        "Interactive tutorial on for functions: (https://www.w3schools.com/python/python_functions.asp)\n",
        "\n",
        "**Practice**\n",
        "\n",
        "zyBooks Ch 6  Participation Activities 6.1 - 6.6\n",
        "\n",
        "**Learning Outcomes**\n",
        "\n",
        "\n",
        "*   User defined functions\n",
        "*   Function parametors\n",
        "*   Returning from a function\n",
        "*   Dynamic typing\n",
        "*   Reasons for defining functions\n",
        "*   Function stubs\n",
        "\n",
        "\n",
        "\n",
        "**Example**\n",
        "\n",
        "Basic function\n"
      ]
    },
    {
      "cell_type": "code",
      "metadata": {
        "id": "iTBrjbvwlaSo",
        "outputId": "9ed1c031-1892-4e68-e619-7a614a023360",
        "colab": {
          "base_uri": "https://localhost:8080/"
        }
      },
      "source": [
        "def hello(name):\n",
        "  print(\"Hello,\", name)\n",
        "\n",
        "def main():\n",
        "  hello(\"Annie\")\n",
        "  hello(\"Troy\")\n",
        "if __name__ == \"__main__\":\n",
        "    main()\n"
      ],
      "execution_count": 8,
      "outputs": [
        {
          "output_type": "stream",
          "text": [
            "Hello, Annie\n",
            "Hello, Troy\n"
          ],
          "name": "stdout"
        }
      ]
    },
    {
      "cell_type": "markdown",
      "metadata": {
        "id": "iOTZdw-EmSZ1"
      },
      "source": [
        "**Example**\n",
        "\n",
        "Guessing game"
      ]
    },
    {
      "cell_type": "code",
      "metadata": {
        "id": "LAPIgIb0j8gv",
        "outputId": "34794d60-8c2f-4566-f1ab-8ac459711d87",
        "colab": {
          "base_uri": "https://localhost:8080/"
        }
      },
      "source": [
        "import random\n",
        "\n",
        "def to_celsius(fahrenheit):\n",
        "    celsius = (fahrenheit - 32) * 5/9\n",
        "    return celsius\n",
        "\n",
        "def to_fahrenheit(celsius):\n",
        "    fahrenheit = celsius * 9/5 + 32\n",
        "    return fahrenheit\n",
        "\n",
        "def game_title():\n",
        "    print(\"Let's play the guessing game!\")\n",
        "    print()\n",
        "\n",
        "def play_game():    \n",
        "    number = random.randint(1, 10)\n",
        "    print(\"Guess a number between 1 to 10\")\n",
        "    count = 1\n",
        "    while True:\n",
        "        guess = int(input(\"Your guess: \"))\n",
        "        if guess < number:\n",
        "            print(\"Too low.\")\n",
        "            count += 1\n",
        "        elif guess > number:\n",
        "            print(\"Too high.\")\n",
        "            count += 1\n",
        "        elif guess == number:\n",
        "            print(\"You guessed it in \" + str(count) + \" tries.\\n\")\n",
        "            return\n",
        "\n",
        "def main():\n",
        "    game_title()\n",
        "    again = \"y\"\n",
        "    while again.lower() == \"y\":\n",
        "        play_game()\n",
        "        again = input(\"Would you like to play again? (y/n): \")\n",
        "        print()\n",
        "    print(\"Bye\")\n",
        "\n",
        "if __name__ == \"__main__\":\n",
        "    main()\n",
        "\n"
      ],
      "execution_count": 4,
      "outputs": [
        {
          "output_type": "stream",
          "text": [
            "Let's play the guessing game!\n",
            "\n",
            "Guess a number between 1 to 10\n",
            "Your guess: 5\n",
            "Too high.\n",
            "Your guess: 3\n",
            "Too low.\n",
            "Your guess: 4\n",
            "You guessed it in 3 tries.\n",
            "\n",
            "Would you like to play again? (y/n): n\n",
            "\n",
            "Bye\n"
          ],
          "name": "stdout"
        }
      ]
    }
  ]
}