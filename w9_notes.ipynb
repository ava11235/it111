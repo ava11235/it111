{
  "nbformat": 4,
  "nbformat_minor": 0,
  "metadata": {
    "colab": {
      "name": "w9_notes.ipynb",
      "provenance": [],
      "authorship_tag": "ABX9TyNVBsu1HyP0MBPFWSwLh+rX",
      "include_colab_link": true
    },
    "kernelspec": {
      "name": "python3",
      "display_name": "Python 3"
    }
  },
  "cells": [
    {
      "cell_type": "markdown",
      "metadata": {
        "id": "view-in-github",
        "colab_type": "text"
      },
      "source": [
        "<a href=\"https://colab.research.google.com/github/ava11235/it111/blob/master/w9_notes.ipynb\" target=\"_parent\"><img src=\"https://colab.research.google.com/assets/colab-badge.svg\" alt=\"Open In Colab\"/></a>"
      ]
    },
    {
      "cell_type": "markdown",
      "metadata": {
        "id": "_NdRUO9JEBTO"
      },
      "source": [
        "**Reading**\n",
        "\n",
        "*zyBooks Ch 7 Strings*\n",
        "\n",
        "Text is represented in Python programs by the string data type.\n",
        "\n",
        "A string is a sequence of characters enclosed with quotation marks (\") or apostrophes ('). \n",
        "\n",
        "Individual characters in a string can be accessed through indexing.\n",
        "\n",
        "The index positions in a string start with 0.\n",
        "\n",
        "` <string>[<index>]`   where the value of index determines which character is selected from the string. \n",
        "\n",
        "The last character in a string with n chars is at position n-1 since counting starts with 0.\n",
        "Python also allows counting from the right side using negative indexes.\n",
        "\n",
        "While indexing allows for returning a single character from a string, slicing allows for accessing a contiguous sequence of characters,  a substring.\n",
        "\n",
        "Slicing:\n",
        "`<string>[<start>:<end>]`   slice contains the substring beginning at position start and ending with position end-1.\n",
        "\n",
        "If start or end are missing, then the start or the end of the string are used.\n",
        "\n",
        "\n",
        "Concatenation  (+) joins two strings together.\n",
        "\n",
        "Repetition (*) builds up a string by multiple concatenations of a string with itself. \n",
        "\n",
        "Strings output can be formatted with \n",
        "`<template-string>.format(<values>)`\n",
        "\n",
        "Curly braces {} within the template-string mark the slots into which the values are inserted.  Each slot the includes format specifier telling how the value for the slot should be output.\n",
        "\n",
        "The formatting specifier has the form: `<width>.<precision><type>`\n",
        "\n",
        "`<width>` tells us how many spaces to use to display the value. 0 means to use as much space as necessary.\n",
        "\n",
        "`<precision>` is the number of decimal places.\n",
        "\n",
        "Justification can be specified before the width.\n",
        "By default numeric values are right-justified, while strings are left- justified.\n",
        "\n",
        "\n",
        "**Reference**\n",
        "\n",
        "Python visualizer (http://www.pythontutor.com/visualize.html#mode=edit.)\n",
        "\n",
        "Python strings : (https://www.w3schools.com/python/python_strings.asp)\n",
        "String methods: (https://www.w3schools.com/python/python_ref_string.asp)\n",
        "\n",
        "**Practice**\n",
        "\n",
        "zyBooks Ch 7  Participation Activities \n",
        "\n",
        "**Learning Outcomes**\n",
        "\n",
        "Upon a successful completion of this chapter, students will be able to apply the following concepts in their programs.\n",
        "\n",
        "*   Strings slicing\n",
        "*   Advanced string formatting\n",
        "*   String methods\n",
        "*   Splitting and joining strings\n",
        "\n",
        "\n",
        "**Example**\n",
        "\n",
        "Generate a user name from user's first and last name"
      ]
    },
    {
      "cell_type": "code",
      "metadata": {
        "colab": {
          "base_uri": "https://localhost:8080/"
        },
        "id": "lwU1QX9_IDyz",
        "outputId": "5b845379-c6a8-405e-92b3-e881bbcdc00d"
      },
      "source": [
        "def main():\n",
        "    first = input(\"Please enter your first name in lowercase): \")\n",
        "    last = input(\"Please enter your last name in lowercase): \")\n",
        "\n",
        "    # concatenate first initial of first name with 6 chars of the last name\n",
        "    uname = first[0] + last[:7]\n",
        "\n",
        "    # output the username\n",
        "    print(\"Your user name is:\", uname)\n",
        "main()"
      ],
      "execution_count": 7,
      "outputs": [
        {
          "output_type": "stream",
          "text": [
            "Please enter your first name in lowercase): andy\n",
            "Please enter your last name in lowercase): wilson\n",
            "Your user name is: awilson\n"
          ],
          "name": "stdout"
        }
      ]
    },
    {
      "cell_type": "markdown",
      "metadata": {
        "id": "MmnY13VLOtHI"
      },
      "source": [
        "Example with string fromatting"
      ]
    },
    {
      "cell_type": "code",
      "metadata": {
        "colab": {
          "base_uri": "https://localhost:8080/",
          "height": 35
        },
        "id": "S1mYqtZMOqwL",
        "outputId": "9b0ea9f4-e4ab-4869-8bf9-72884d0d62ad"
      },
      "source": [
        "'{0:<5}, was placed in a field of width 5, right justified.'.format(42)"
      ],
      "execution_count": 22,
      "outputs": [
        {
          "output_type": "execute_result",
          "data": {
            "application/vnd.google.colaboratory.intrinsic+json": {
              "type": "string"
            },
            "text/plain": [
              "'42   , was placed in a field of width 5, right justified.'"
            ]
          },
          "metadata": {
            "tags": []
          },
          "execution_count": 22
        }
      ]
    }
  ]
}