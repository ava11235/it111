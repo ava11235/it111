{
  "nbformat": 4,
  "nbformat_minor": 0,
  "metadata": {
    "colab": {
      "name": "2-variables-expressions.ipynb",
      "provenance": [],
      "authorship_tag": "ABX9TyNaRwooX/kgnujxM/cRP0vL",
      "include_colab_link": true
    },
    "kernelspec": {
      "name": "python3",
      "display_name": "Python 3"
    }
  },
  "cells": [
    {
      "cell_type": "markdown",
      "metadata": {
        "id": "view-in-github",
        "colab_type": "text"
      },
      "source": [
        "<a href=\"https://colab.research.google.com/github/ava11235/it111/blob/master/2_variables_expressions.ipynb\" target=\"_parent\"><img src=\"https://colab.research.google.com/assets/colab-badge.svg\" alt=\"Open In Colab\"/></a>"
      ]
    },
    {
      "cell_type": "markdown",
      "metadata": {
        "id": "SUBc_XPWjVsv"
      },
      "source": [
        "**Reading**\n",
        "\n",
        "zyBooks Ch 2 Variables and Expressions\n",
        "\n",
        "**Reference**\n",
        "\n",
        "[Python Basics Cheatsheet](https://www.pythoncheatsheet.org/#Python-Basics)\n",
        "\n",
        "**Practice** \n",
        "\n",
        "In class practice: zyBooks Lab 1.15 - No parking sign\n",
        "zyBooks Ch 2 Practice (graded participation activity)\n",
        "\n",
        "**Learning Outcomes** \n",
        "\n",
        "Upon successful completion of this chapter, students will be familiar with and able to apply the following concepts in their programs\n",
        "  \n",
        "* Variables and Assignments\n",
        "\n",
        "* Identifiers\n",
        "\n",
        "* Objects\n",
        "\n",
        "* Numeric data types: Floating point\n",
        "\n",
        "* Expressions \n",
        "\n",
        "* Operators: Division and Modulo\n",
        "\n",
        "* Import and call functions from the math module\n",
        "\n",
        "* Text (string) data type\n",
        " \n"
      ]
    },
    {
      "cell_type": "code",
      "metadata": {
        "id": "O6AM_sdw3Swy",
        "outputId": "03b6bdde-a9f0-4d59-b623-878c2713751f",
        "colab": {
          "base_uri": "https://localhost:8080/",
          "height": 87
        }
      },
      "source": [
        "print (7+5)\n",
        "print(7, 5, 7+5)\n",
        "print()\n",
        "print(7, 5, end=\" \")\n",
        "print(\"Seven plus five is\", 12)\n",
        "\n"
      ],
      "execution_count": 10,
      "outputs": [
        {
          "output_type": "stream",
          "text": [
            "12\n",
            "7 5 12\n",
            "\n",
            "7 5 Seven plus five is 12\n"
          ],
          "name": "stdout"
        }
      ]
    },
    {
      "cell_type": "code",
      "metadata": {
        "id": "3DHuHSVB5sHM",
        "outputId": "04f29873-1542-40d4-e668-c2e83553bcc6",
        "colab": {
          "base_uri": "https://localhost:8080/",
          "height": 70
        }
      },
      "source": [
        "# Assignments\n",
        "x = 2 ** 3\n",
        "print (x)\n",
        "y = 5\n",
        "print(y)\n",
        "# Variable values can be changed\n",
        "y = 8\n",
        "print(y)\n"
      ],
      "execution_count": 14,
      "outputs": [
        {
          "output_type": "stream",
          "text": [
            "8\n",
            "5\n",
            "8\n"
          ],
          "name": "stdout"
        }
      ]
    },
    {
      "cell_type": "code",
      "metadata": {
        "id": "1eEOZnYD6jZO",
        "outputId": "9cee25c2-113b-40c5-8c4d-28cfd7f10d04",
        "colab": {
          "base_uri": "https://localhost:8080/",
          "height": 87
        }
      },
      "source": [
        "# type() function tells the type of object \n",
        "print(type(4))\n",
        "print(type(3.14))\n",
        "print(type(\"Hello\"))\n",
        "print(type(True))"
      ],
      "execution_count": 20,
      "outputs": [
        {
          "output_type": "stream",
          "text": [
            "<class 'int'>\n",
            "<class 'float'>\n",
            "<class 'str'>\n",
            "<class 'bool'>\n"
          ],
          "name": "stdout"
        }
      ]
    },
    {
      "cell_type": "code",
      "metadata": {
        "id": "CTBTG6oY67gv",
        "outputId": "2adaed4b-6432-4549-a3ff-8ec9d5e38671",
        "colab": {
          "base_uri": "https://localhost:8080/",
          "height": 52
        }
      },
      "source": [
        "# id() function returns the memory address (identity) of an object\n",
        "print(id(3+4))\n",
        "\n",
        "print(id(\"Hello!\"))"
      ],
      "execution_count": 23,
      "outputs": [
        {
          "output_type": "stream",
          "text": [
            "10914688\n",
            "139799019686408\n"
          ],
          "name": "stdout"
        }
      ]
    },
    {
      "cell_type": "code",
      "metadata": {
        "id": "fy2Hr7cq71GB",
        "outputId": "78a3085b-7cd5-4aa3-c9d7-af625a735f14",
        "colab": {
          "base_uri": "https://localhost:8080/",
          "height": 122
        }
      },
      "source": [
        "# Calculate the value of your coins change in dollars\n",
        "quarters = int(input(\"Quarters: \"))\n",
        "dimes = int(input(\"Dimes: \"))\n",
        "nickels = int(input(\"Nickels: \"))\n",
        "pennies = int(input(\"Pennies: \"))\n",
        "dollars = quarters * 0.25 + dimes * 0.10 + nickels * 0.05 + pennies * 0.01\n",
        "print()\n",
        "print(\"You have\", round(dollars, 2), \"dollars.\")\n"
      ],
      "execution_count": 31,
      "outputs": [
        {
          "output_type": "stream",
          "text": [
            "Quarters: 1\n",
            "Dimes: 2\n",
            "Nickels: 5\n",
            "Pennies: 6\n",
            "\n",
            "You have 0.76 dollars.\n"
          ],
          "name": "stdout"
        }
      ]
    },
    {
      "cell_type": "code",
      "metadata": {
        "id": "BGAFU9Ul9LyZ",
        "outputId": "69436f57-ee61-46cc-baf8-997448b0e5f3",
        "colab": {
          "base_uri": "https://localhost:8080/",
          "height": 52
        }
      },
      "source": [
        "# math library\n",
        "import math \n",
        "\n",
        "print(math.pow(2,3))\n",
        "print(math.sqrt(144))"
      ],
      "execution_count": 35,
      "outputs": [
        {
          "output_type": "stream",
          "text": [
            "8.0\n",
            "12.0\n"
          ],
          "name": "stdout"
        }
      ]
    },
    {
      "cell_type": "code",
      "metadata": {
        "id": "7KxgiApM9p8G",
        "outputId": "50d6b1ee-9c38-4892-fb19-efcd74e7c398",
        "colab": {
          "base_uri": "https://localhost:8080/",
          "height": 105
        }
      },
      "source": [
        "# Text\n",
        "print(\"Welcome \\nto \\nIT 111\")\n",
        "\n",
        "s = \"How are you?\"\n",
        "print(len(s))\n",
        "print(s.upper())"
      ],
      "execution_count": 39,
      "outputs": [
        {
          "output_type": "stream",
          "text": [
            "Welcome \n",
            "to \n",
            "IT 111\n",
            "12\n",
            "HOW ARE YOU?\n"
          ],
          "name": "stdout"
        }
      ]
    },
    {
      "cell_type": "markdown",
      "metadata": {
        "id": "CDAhCBZcjQx-"
      },
      "source": [
        ""
      ]
    }
  ]
}