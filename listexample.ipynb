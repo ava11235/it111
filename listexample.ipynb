{
  "nbformat": 4,
  "nbformat_minor": 0,
  "metadata": {
    "colab": {
      "name": "listexample.ipynb",
      "provenance": []
    },
    "kernelspec": {
      "name": "python3",
      "display_name": "Python 3"
    }
  },
  "cells": [
    {
      "cell_type": "code",
      "metadata": {
        "id": "z-Kzjbxt9b2s"
      },
      "source": [
        "Movie List"
      ],
      "execution_count": null,
      "outputs": []
    },
    {
      "cell_type": "code",
      "metadata": {
        "colab": {
          "base_uri": "https://localhost:8080/"
        },
        "id": "koT1rqLS-P7k",
        "outputId": "99933c6e-a348-4a91-c1fa-9dfbf68e9ae2"
      },
      "source": [
        "'''\r\n",
        "Use a list to store a list of movies.\r\n",
        "Search for a movie by year.\r\n",
        "'''\r\n",
        "def movies():\r\n",
        "    print(\"Movie recommendation by year\")\r\n",
        "    movie_list = [[\" Avengers: Infinity War \", 2018, 8.4],\r\n",
        "                  [\"Aquaman\", 2018, 6.9], \r\n",
        "                  [\"X-Men: Dark Phoenix\", 2019, 5.7],\r\n",
        "                  [\"Wonder Woman 1984 \", 2020, 5.4] ]\r\n",
        "    \r\n",
        "    year = int(input(\"Which year?(e.g. 2019) \"))    \r\n",
        "    for movie in movie_list:\r\n",
        "        if movie[1] == year:\r\n",
        "            print('\\n' + movie[0] + \" was released in \" + str(year))\r\n",
        "    print()\r\n",
        "\r\n",
        "if __name__ == \"__main__\":\r\n",
        "    movies()\r\n"
      ],
      "execution_count": 19,
      "outputs": [
        {
          "output_type": "stream",
          "text": [
            "Movie recommendation by year\n",
            "Which year?(e.g. 2019) 2019\n",
            "\n",
            "X-Men: Dark Phoenix was released in 2019\n",
            "\n"
          ],
          "name": "stdout"
        }
      ]
    }
  ]
}