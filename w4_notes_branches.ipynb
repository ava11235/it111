{
  "nbformat": 4,
  "nbformat_minor": 0,
  "metadata": {
    "colab": {
      "name": "w4_notes_branches.ipynb",
      "provenance": [],
      "authorship_tag": "ABX9TyMnttqY296qXk/mCNgUZ9Qe",
      "include_colab_link": true
    },
    "kernelspec": {
      "name": "python3",
      "display_name": "Python 3"
    }
  },
  "cells": [
    {
      "cell_type": "markdown",
      "metadata": {
        "id": "view-in-github",
        "colab_type": "text"
      },
      "source": [
        "<a href=\"https://colab.research.google.com/github/ava11235/it111/blob/master/w4_notes_branches.ipynb\" target=\"_parent\"><img src=\"https://colab.research.google.com/assets/colab-badge.svg\" alt=\"Open In Colab\"/></a>"
      ]
    },
    {
      "cell_type": "markdown",
      "metadata": {
        "id": "-c4ib1_7bmvS"
      },
      "source": [
        "**Reading**\n",
        "\n",
        "zyBooks Ch 4 Branching\n",
        "\n",
        "Branching, aka control structures, allows the programmer to alter sequential program flow.\n",
        "\n",
        "\n",
        "Decision structures, such as the if...elif...else... are statements that allow the execution of different sequences of code  for different conditions, based on whether a condition is true (program executes this code path) or false (program skips over this code path).  \n",
        "\n",
        "\n",
        "**Reference**\n",
        "\n",
        "*Python tutor* allows you to visualize the execution of syntactically correct (without syntax errors) programs.   This tool is helpful when you are not clear as to why a program is producing the result you are seeing. It also shows how the values of variables changes as the program runs. \n",
        "Link to Python tutor here. (http://www.pythontutor.com/visualize.html#mode=edit.)\n",
        "\n",
        "Interactive tutorial on conditional statements here. (https://www.w3schools.com/python/python_conditions.asp)\n",
        "\n",
        "**Practice**\n",
        "\n",
        "zyBooks Ch 4 Practice (graded participation activity).\n",
        "\n",
        "\n",
        "**Learning Outcomes**\n",
        "If...elif...else branches\n",
        "Equality and relational operators\n",
        "Boolean operators and expressions\n",
        "Order of evaluation\n",
        "Code blocks and indentation\n",
        "Conditional expressions\n",
        "\n",
        "**Example**\n",
        "Temp converter program with high/low temp warnings. Test the program with different  Celsius values, so you can observe the program executing different branches of code  (90F is 32C.  0C is 32F).\n",
        "\n"
      ]
    },
    {
      "cell_type": "code",
      "metadata": {
        "id": "dKIPqSoTauKd",
        "outputId": "104353e9-2d53-41d4-d6bf-2edcf187573a",
        "colab": {
          "base_uri": "https://localhost:8080/",
          "height": 67
        }
      },
      "source": [
        "'''tempconvert.py\n",
        "Convert Celsius temperature\n",
        "to Fahrenheit temperature\n",
        "'''\n",
        "celsius_temp = float(input(\"Enter Celsius temperature: \"))\n",
        "fahrenheit_temp = 9/5 * celsius_temp + 32\n",
        "print(\"The Fahrenheit temperature is\", fahrenheit_temp)\n",
        "if fahrenheit_temp >= 90:\n",
        "     print(\"It's hot out there today.\")\n",
        "elif fahrenheit_temp <= 32:\n",
        "    print(\"Freezeing temperatures today.\")"
      ],
      "execution_count": 3,
      "outputs": [
        {
          "output_type": "stream",
          "text": [
            "Enter Celsius temperature: 0\n",
            "The Fahrenheit temperature is 32.0\n",
            "Freezeing temperatures today.\n"
          ],
          "name": "stdout"
        }
      ]
    }
  ]
}