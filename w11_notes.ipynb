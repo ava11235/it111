{
  "nbformat": 4,
  "nbformat_minor": 0,
  "metadata": {
    "colab": {
      "name": "w11_notes.ipynb",
      "provenance": [],
      "authorship_tag": "ABX9TyPTTQprsvQukOwjpi1MReSo",
      "include_colab_link": true
    },
    "kernelspec": {
      "name": "python3",
      "display_name": "Python 3"
    }
  },
  "cells": [
    {
      "cell_type": "markdown",
      "metadata": {
        "id": "view-in-github",
        "colab_type": "text"
      },
      "source": [
        "<a href=\"https://colab.research.google.com/github/ava11235/it111/blob/master/w11_notes.ipynb\" target=\"_parent\"><img src=\"https://colab.research.google.com/assets/colab-badge.svg\" alt=\"Open In Colab\"/></a>"
      ]
    },
    {
      "cell_type": "code",
      "metadata": {
        "id": "2FGEmCg9V_RD"
      },
      "source": [
        ""
      ],
      "execution_count": null,
      "outputs": []
    },
    {
      "cell_type": "markdown",
      "metadata": {
        "id": "hwYrAzPeWAZb"
      },
      "source": [
        "**Reading**\n",
        "\n",
        "*zyBooks Ch 9 Classes*\n",
        "\n",
        "A ***class*** in Python is like a blueprint for instantiating new objects. For example, an Employee class is a blueprint for employees. Amy Smith is a specific instance of the Employee class.\n",
        "\n",
        "An ***object*** is an entity with state (knows things) and behaviors (does things). For example, Amy Smith is an instance of an Employee class. Amy has a state (name, SSN, job title) and behaviors (submit reports, get paid, etc.)\n",
        "\n",
        "\n",
        "Object-oriented programming (OOP) refers to programs where objects interact with other objects.\n",
        "\n",
        "\n",
        "**Abstraction** is the notion that you don't need to understand the inner details of how something works in order to understand its external behavior. For example, everything is made up of subatomic particles, but you don't need to understand how they work in order to be able to make breakfast. One way to achieve abstraction is with the use of **information hiding**, aka **encapsulation**, where low level details are hidden from the \"client\" of the object.\n",
        "\n",
        "Pretty much everything in Python is an object, created automatically by the language.\n",
        "\n",
        "Classes have **attributes and methods**, as well as a special method `__init__ `which is referred to as a constructor. This method is called when a new instance of a class is created. \n",
        "\n",
        "**Class Interfaces** are methods that can be called to interact with the instance.\n",
        "\n",
        "Python handles the memory allocation of a program. Note that in some other languages such as C++ the programmer must manually manage the program's memory. \n",
        "The mechanism for managing memory is called **Garbage collection** and uses a reference counter. When the number of references of an object equals 0, memory is deallocated. \n",
        "\n",
        "\n",
        "**Reference**\n",
        "\n",
        "[Python visualizer](http://www.pythontutor.com/visualize.html#mode=edit.)\n",
        "\n",
        "[W3Schools Python Classes](https://www.w3schools.com/python/python_classes.asp)\n",
        "\n",
        "\n",
        "**Practice**\n",
        "\n",
        "zyBooks Ch 9 Participation Activities\n",
        "\n",
        "**Learning Outcomes**\n",
        "\n",
        "Upon a successful completion of this chapter, students will be able to apply the following concepts in their programs:\n",
        "\n",
        "\n",
        "*   Introduction to classes and objects\n",
        "*   Instance methods\n",
        "* Class constructors\n",
        "* Class interfaces\n",
        "* Class customization\n",
        "\n",
        "\n",
        "**Example** \n",
        "n-sided Die class\n",
        "\n",
        "\n",
        " "
      ]
    },
    {
      "cell_type": "code",
      "metadata": {
        "colab": {
          "base_uri": "https://localhost:8080/"
        },
        "id": "zvrSsG-xkXui",
        "outputId": "339fa073-e39e-4cdb-ef72-800aa6d27f20"
      },
      "source": [
        "#    n-sided Die class \n",
        "\n",
        "from random import randrange\n",
        "\n",
        "class Die:\n",
        "\n",
        "    def __init__(self, sides):\n",
        "        self.sides = sides\n",
        "        self.value = 1\n",
        "\n",
        "    def roll(self):\n",
        "        self.value = randrange(1, self.sides+1)\n",
        "        return self.value\n",
        "\n",
        "    def getValue(self):\n",
        "        return self.value\n",
        "\n",
        "    def setValue(self, value):\n",
        "        self.value = value  \n",
        "\n",
        "def main():\n",
        "    die1 = Die(6)\n",
        "    die2 = Die(6)\n",
        "\n",
        "    play = \"y\"\n",
        "    while play == \"y\":\n",
        "        \n",
        "        print(\"Die 1 rolled:\", die1.roll())\n",
        "        print(\"Die 2 rolled:\", die2.roll())\n",
        "        play = input(\"Play again? (y or n): \")\n",
        "\n",
        "    print(\"Good bye\")\n",
        "\n",
        "if __name__ == main():\n",
        "    main()\n"
      ],
      "execution_count": 1,
      "outputs": [
        {
          "output_type": "stream",
          "text": [
            "Die 1 rolled: 3\n",
            "Die 2 rolled: 4\n",
            "Play again? (y or n): y\n",
            "Die 1 rolled: 4\n",
            "Die 2 rolled: 4\n",
            "Play again? (y or n): n\n",
            "Good bye\n"
          ],
          "name": "stdout"
        }
      ]
    }
  ]
}