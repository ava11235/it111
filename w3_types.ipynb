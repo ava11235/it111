{
  "nbformat": 4,
  "nbformat_minor": 0,
  "metadata": {
    "colab": {
      "name": "w3_types.ipynb",
      "provenance": [],
      "authorship_tag": "ABX9TyMoYgR5SoOIjelvbGRHngvq",
      "include_colab_link": true
    },
    "kernelspec": {
      "name": "python3",
      "display_name": "Python 3"
    }
  },
  "cells": [
    {
      "cell_type": "markdown",
      "metadata": {
        "id": "view-in-github",
        "colab_type": "text"
      },
      "source": [
        "<a href=\"https://colab.research.google.com/github/ava11235/it111/blob/master/w3_types.ipynb\" target=\"_parent\"><img src=\"https://colab.research.google.com/assets/colab-badge.svg\" alt=\"Open In Colab\"/></a>"
      ]
    },
    {
      "cell_type": "markdown",
      "metadata": {
        "id": "ZxzAhVBB43Ag"
      },
      "source": [
        "**Reading**\n",
        "\n",
        "zyBooks Ch 2 Variables and Expressions\n",
        "\n",
        "**Reference**\n",
        "\n",
        "[Python Basics Cheatsheet](https://www.pythoncheatsheet.org/#Python-Basics)\n",
        "\n",
        "[Official Python documentation](https://docs.python.org/3/)\n",
        "\n",
        "**Practice**\n",
        "\n",
        "In class practice: zyBooks Lab 1.15 - No parking sign zyBooks Ch 2 Practice (graded participation activity)\n",
        "\n",
        "**Learning Outcomes**\n",
        "\n",
        "Upon successful completion of this chapter, students will be familiar with and able to apply the following concepts in their programs\n",
        "\n",
        "String basics\n",
        "\n",
        "List basics\n",
        "\n",
        "Set basics\n",
        "\n",
        "Dictionary basics\n",
        "\n",
        "Common data type summary\n",
        "\n",
        "Type conversions\n",
        "\n",
        "String formatting\n",
        "\n",
        "Binary numbers\n",
        "\n",
        "**Examples**\n",
        "\n",
        "\n",
        "\n",
        "\n"
      ]
    },
    {
      "cell_type": "code",
      "metadata": {
        "id": "myGeIwZo6TQE",
        "outputId": "5f2ddb43-ad28-4fe7-8ea0-12588a739c1b",
        "colab": {
          "base_uri": "https://localhost:8080/",
          "height": 35
        }
      },
      "source": [
        "# String\n",
        "name = \"Jordan\"\n",
        "\n",
        "# Literal String \n",
        "\"Hello, World!\"\n",
        "# Single or double quotes OK\n",
        "'Hello, World!'\n",
        "\n",
        "# Use the built in len function to get the length of a string\n",
        "print(len(\"Hello, World!\"), \"characters in this string.\")"
      ],
      "execution_count": 4,
      "outputs": [
        {
          "output_type": "stream",
          "text": [
            "13 characters in this string.\n"
          ],
          "name": "stdout"
        }
      ]
    },
    {
      "cell_type": "code",
      "metadata": {
        "id": "yKMn2kWZ7H8o",
        "outputId": "4193b8c4-adec-4af5-a86e-ea76a2a81f8f",
        "colab": {
          "base_uri": "https://localhost:8080/",
          "height": 52
        }
      },
      "source": [
        "# Use square brackets [] and the index of a charcter to gbet an individual character in a string\n",
        "name = \"Annie\"\n",
        "print(name[0]) # Indexes and 0 based\n",
        "print(name[4])"
      ],
      "execution_count": 5,
      "outputs": [
        {
          "output_type": "stream",
          "text": [
            "A\n",
            "e\n"
          ],
          "name": "stdout"
        }
      ]
    },
    {
      "cell_type": "code",
      "metadata": {
        "id": "XTJ52Pkq7mFA",
        "outputId": "29041ac1-c100-43f7-f2ce-82bf75c972f7",
        "colab": {
          "base_uri": "https://localhost:8080/",
          "height": 35
        }
      },
      "source": [
        "# String concatenation\n",
        "name = 'Jeff'\n",
        "print(\"Hello, \" + name + \"! How are you today?\")"
      ],
      "execution_count": 7,
      "outputs": [
        {
          "output_type": "stream",
          "text": [
            "Hello, Jeff! How are you today?\n"
          ],
          "name": "stdout"
        }
      ]
    },
    {
      "cell_type": "code",
      "metadata": {
        "id": "Z2mrDUYS8A0Z",
        "outputId": "039715b5-60e9-4822-b329-f52584e7f4ae",
        "colab": {
          "base_uri": "https://localhost:8080/",
          "height": 87
        }
      },
      "source": [
        "# List are another type of sequence. Lists, unlike strings, are mutable, meaning you can change them\n",
        "grades = [100, 95, 75, 100]\n",
        "print(grades)\n",
        "# Update a grade for the second student\n",
        "grades[1] = 100\n",
        "print(grades)\n",
        "\n",
        "# Add a new grade to the end of list\n",
        "grades.append(82)\n",
        "print(grades)\n",
        "\n",
        "# Remove a grade from a specified index\n",
        "grades.pop(2) # 75 will be removed\n",
        "print(grades)"
      ],
      "execution_count": 12,
      "outputs": [
        {
          "output_type": "stream",
          "text": [
            "[100, 95, 75, 100]\n",
            "[100, 100, 75, 100]\n",
            "[100, 100, 75, 100, 82]\n",
            "[100, 100, 100, 82]\n"
          ],
          "name": "stdout"
        }
      ]
    },
    {
      "cell_type": "code",
      "metadata": {
        "id": "8YJE1V9o9FiG",
        "outputId": "0b078825-4cf1-45de-b8b8-eb87abe73c2e",
        "colab": {
          "base_uri": "https://localhost:8080/",
          "height": 69
        }
      },
      "source": [
        "# A set is an unordered (not a sequence) collection of unique elements\n",
        "# Create a set\n",
        "things_in_box = set(['pencil', 'eraser', 'hair band', 'paper clip'])\n",
        "print (things_in_box)\n",
        "things_in_box.add('ruler')\n",
        "print (things_in_box)\n",
        "things_in_box.remove('hair band')\n",
        "print (things_in_box)\n"
      ],
      "execution_count": 15,
      "outputs": [
        {
          "output_type": "stream",
          "text": [
            "{'hair band', 'paper clip', 'pencil', 'eraser'}\n",
            "{'paper clip', 'pencil', 'ruler', 'hair band', 'eraser'}\n",
            "{'paper clip', 'pencil', 'ruler', 'eraser'}\n"
          ],
          "name": "stdout"
        }
      ]
    },
    {
      "cell_type": "code",
      "metadata": {
        "id": "TL4T5Gsm-2n4"
      },
      "source": [
        ""
      ],
      "execution_count": null,
      "outputs": []
    },
    {
      "cell_type": "code",
      "metadata": {
        "id": "uGBPc9kl-OBC",
        "outputId": "cffd6923-74e8-4d75-b800-65a09f43c75f",
        "colab": {
          "base_uri": "https://localhost:8080/",
          "height": 104
        }
      },
      "source": [
        "# A dictionary object describes key and value pairs (an associative relationship)\n",
        "state_birds = {\"Alabama\" : \"Northern Flicker\", \"Alaska\" : \"Willow Ptarmigan\", \"Arizona\" : \"Cactus Wren\" }\n",
        "print(state_birds)\n",
        "print(state_birds[\"Arizona\"])\n",
        "\n",
        "# Print all of the key value pairs\n",
        "for state_bird in state_birds:\n",
        "  print (state_bird, state_birds[state_bird])"
      ],
      "execution_count": 19,
      "outputs": [
        {
          "output_type": "stream",
          "text": [
            "{'Alabama': 'Northern Flicker', 'Alaska': 'Willow Ptarmigan', 'Arizona': 'Cactus Wren'}\n",
            "Cactus Wren\n",
            "Alabama Northern Flicker\n",
            "Alaska Willow Ptarmigan\n",
            "Arizona Cactus Wren\n"
          ],
          "name": "stdout"
        }
      ]
    },
    {
      "cell_type": "markdown",
      "metadata": {
        "id": "GCN_GYhNAICp"
      },
      "source": [
        ""
      ]
    },
    {
      "cell_type": "markdown",
      "metadata": {
        "id": "EJdNeyrLAKLE"
      },
      "source": [
        "String formatting with the format() function. This function allows you to create a string with placeholders, writtn as {} within a string, where when the code ii exectured, the variable values will be repplaced with added formatting."
      ]
    },
    {
      "cell_type": "code",
      "metadata": {
        "id": "Lod7QkWtAc7f",
        "outputId": "9eb155a9-c016-49a9-ec6a-dd45722080a3",
        "colab": {
          "base_uri": "https://localhost:8080/",
          "height": 35
        }
      },
      "source": [
        "\n",
        "total = 133.4557\n",
        "print(\"You have ${0:0.2f}, in your account.\".format(total))"
      ],
      "execution_count": 25,
      "outputs": [
        {
          "output_type": "stream",
          "text": [
            "You have $133.46, in your account.\n"
          ],
          "name": "stdout"
        }
      ]
    },
    {
      "cell_type": "code",
      "metadata": {
        "id": "9x0Ez6R1B8J_",
        "outputId": "a8987612-d3f7-4b90-c8c8-338624fe6d38",
        "colab": {
          "base_uri": "https://localhost:8080/",
          "height": 35
        }
      },
      "source": [
        "city = \"Seattle\"\n",
        "state = \"WA\"\n",
        "zip_code = 98122\n",
        "print(\"City: {} State: {} Zip Code: {}\".format(city, state, zip_code))"
      ],
      "execution_count": 28,
      "outputs": [
        {
          "output_type": "stream",
          "text": [
            "City: Seattle State: WA Zip Code: 98122\n"
          ],
          "name": "stdout"
        }
      ]
    }
  ]
}