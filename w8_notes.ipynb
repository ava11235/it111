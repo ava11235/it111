{
  "nbformat": 4,
  "nbformat_minor": 0,
  "metadata": {
    "colab": {
      "name": "w8_notes.ipynb",
      "provenance": [],
      "authorship_tag": "ABX9TyOz0OTZQbM9jkSxlicUVWbG",
      "include_colab_link": true
    },
    "kernelspec": {
      "name": "python3",
      "display_name": "Python 3"
    }
  },
  "cells": [
    {
      "cell_type": "markdown",
      "metadata": {
        "id": "view-in-github",
        "colab_type": "text"
      },
      "source": [
        "<a href=\"https://colab.research.google.com/github/ava11235/it111/blob/master/w8_notes.ipynb\" target=\"_parent\"><img src=\"https://colab.research.google.com/assets/colab-badge.svg\" alt=\"Open In Colab\"/></a>"
      ]
    },
    {
      "cell_type": "code",
      "metadata": {
        "id": "pmBgB55igJQb"
      },
      "source": [
        ""
      ],
      "execution_count": null,
      "outputs": []
    },
    {
      "cell_type": "markdown",
      "metadata": {
        "id": "xzDrjF34H9yn"
      },
      "source": [
        "**Reading**\n",
        "\n",
        "zyBooks Ch 6 Functions 6.7- 6.16\n",
        "\n",
        "**Branches and loops** can be used within a function body in the same way as anywhere else in the program. Pay attention to the indentation of the branches or loops which are part of the function.\n",
        "\n",
        "**Functions are objects in Python.** Therefore they have type, identity and values.Each function creates a new object with the name of the function. Functions can be passed as arguments to other functions.  \n",
        "\n",
        "Functions can  also be used in assignments, e.g.\n",
        "`greeting = say_greeting()`\n",
        "\n",
        "There are some common errors that occur when working with functions  to be aware of. They include, copy, paste and not make the needed modifications when reusing code from one function in another.  Forgetting to return from a function is another common error. If you forget to return from a function, the function will return `None.`\n",
        "\n",
        "**Scope**\n",
        "\n",
        "Scope of a variable or function describes where in the program the variable or function is visible. Unless a variable is declared as global, the scope of a variable inside a function is limited to the function only. Declaring the variable as global, makes it visible inside the entire file. Global variables are prone to error and should be used sparingly.\n",
        "\n",
        "\n",
        "Each scope has its own namespace, which is a dictionary for storing names and their values.  There are three nested scopes with their own namespaces, which makes it possible to have the same variable name in a local function and in a different scope, for example as a built-in name in Python.\n",
        "\n",
        "\n",
        "The three scopes are : built in scope, global scope and local scope. The process for searching for a name in these scopes, in the order of local, global and built in, is referred to scope resolution. If the event that the name is not found anywhere, a NameError is thrown.\n",
        "\n",
        "\n",
        "You can use the `locals()` and `globals()` functions to look at the respective name spaces.\n",
        "\n",
        "\n",
        "**Function arguments**\n",
        "\n",
        "In Python variables are passed by reference, meaning that you could potentially make a change to them that would affect them outside of the function.  Whether a function will actually modify a variable outside of itself depends on the type of object. If the object is immutable, the function will not change it. e.g. a string. If the object is mutable, e.g a list, the function will change it and affect other parts of the program.  \n",
        "\n",
        "It is possible to pass a mutable object  as a copy, so that it is not modified by the function. This requires the following syntax for a list \n",
        "`store_grades(grades[ : ])`\n",
        "\n",
        "Keyword arguments allow for passing parameters by name rather than by position. This can be helpful if the argument list is > 4.Default parameters are set when the function is defined and the value set will be used unless the calling function overrides it.\n",
        "\n",
        "Another tool Python when working with arguments is the *args, which collects optional positional parameters. The **kwargs has the same purpose, but it stores a dictionary.\n",
        "\n",
        "**Multiple function outputs**\n",
        "\n",
        "Python can only return a single value, however, you can return multiple values by the use of a container, such as a tuple.  This allows for returning multiple values, separated by commas.\n",
        "\n",
        "\n",
        "Use the `help()` function to access documentation for various built in names. This is possible, because the built in functions use the docstring to document important function information.Use the docstring as well at the start of a function to document your functions.\n",
        "\n",
        "**Reference**\n",
        "\n",
        "Python visualizer (http://www.pythontutor.com/visualize.html#mode=edit.)\n",
        "\n",
        "Interactive tutorial on for functions: (https://www.w3schools.com/python/python_functions.asp)\n",
        "\n",
        "**Practice**\n",
        "\n",
        "zyBooks Ch 6  Participation Activities 6.7 - 6.16\n",
        "\n",
        "**Learning Outcomes**\n",
        "\n",
        "\n",
        "*   Functions with branches and loops\n",
        "*   Function are objects\n",
        "*   Common errors when working with functions\n",
        "*   Scope of variables and functions\n",
        "*   Namespaces and scope resolution\n",
        "*   Function arguments\n",
        "*   Keyword args and default parameter values\n",
        "*   Arbitrary argument lists\n",
        "*   Multiple function outputs\n",
        "*   Doctstrings use for documenting functions\n",
        "\n",
        "\n",
        "\n",
        "**Example**\n",
        "\n",
        "Use of functions to read numbers and print all, odd and negative numbers.\n"
      ]
    },
    {
      "cell_type": "code",
      "metadata": {
        "id": "BtU25IqKnfkG",
        "outputId": "0c35c934-b2db-42ac-9787-9844e6f7fc59",
        "colab": {
          "base_uri": "https://localhost:8080/"
        }
      },
      "source": [
        "size = 5\n",
        "\n",
        "def get_numbers(num):\n",
        "    numbers = []\n",
        "    user_input = input('Enter {} integers:\\n'.format(num))\n",
        "\n",
        "    i = 0\n",
        "    for token in user_input.split():\n",
        "        number = int(token)     # Convert string input into integer\n",
        "        numbers.append(number)  # Add to numbers list\n",
        "\n",
        "        print(i, number)\n",
        "        i += 1\n",
        "\n",
        "    return numbers\n",
        "\n",
        "def print_all_numbers(numbers):\n",
        "    # Print numbers\n",
        "    print('Numbers:', end=' ')\n",
        "    for token in numbers:\n",
        "       \n",
        "       print(token, end=' ')\n",
        "    print()\n",
        "def print_odd_numbers(numbers):\n",
        "    # Print all odd numbers\n",
        "    print('Odd numbers:', end=' ')\n",
        "    for token in numbers:\n",
        "        if token % 2 !=0:\n",
        "              print(token, end=' ')\n",
        "    print()\n",
        "\n",
        "def print_negative_numbers(numbers):\n",
        "    # Print all negative numbers\n",
        "    for token in numbers:\n",
        "     if token < 0:\n",
        "        print('Negative numbers:', token, end='')\n",
        "\n",
        "nums = get_numbers(size)\n",
        "print_all_numbers(nums)\n",
        "print_odd_numbers(nums)\n",
        "print_negative_numbers(nums)"
      ],
      "execution_count": 1,
      "outputs": [
        {
          "output_type": "stream",
          "text": [
            "Enter 5 integers:\n",
            "42 11 -3 7 12\n",
            "0 42\n",
            "1 11\n",
            "2 -3\n",
            "3 7\n",
            "4 12\n",
            "Numbers: 42 11 -3 7 12 \n",
            "Odd numbers: 11 -3 7 \n",
            "Negative numbers: -3"
          ],
          "name": "stdout"
        }
      ]
    }
  ]
}