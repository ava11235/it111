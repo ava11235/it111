{
  "nbformat": 4,
  "nbformat_minor": 0,
  "metadata": {
    "colab": {
      "name": "w8_notes.ipynb",
      "provenance": [],
      "authorship_tag": "ABX9TyM6U7DYcGJcPN7gYeH4EZQJ",
      "include_colab_link": true
    },
    "kernelspec": {
      "name": "python3",
      "display_name": "Python 3"
    }
  },
  "cells": [
    {
      "cell_type": "markdown",
      "metadata": {
        "id": "view-in-github",
        "colab_type": "text"
      },
      "source": [
        "<a href=\"https://colab.research.google.com/github/ava11235/it111/blob/master/w8_notes.ipynb\" target=\"_parent\"><img src=\"https://colab.research.google.com/assets/colab-badge.svg\" alt=\"Open In Colab\"/></a>"
      ]
    },
    {
      "cell_type": "code",
      "metadata": {
        "id": "pmBgB55igJQb"
      },
      "source": [
        ""
      ],
      "execution_count": null,
      "outputs": []
    },
    {
      "cell_type": "markdown",
      "metadata": {
        "id": "xzDrjF34H9yn"
      },
      "source": [
        "**Reading**\n",
        "\n",
        "zyBooks Ch 6 Functions 6.7- 6.16\n",
        "\n",
        "So far we have become familiar with the following types of functions:\n",
        "\n",
        "The main() function.\n",
        "Built-in functions (len()).\n",
        "Functions from the standard libraries such as math.pow().\n",
        "\n",
        "Let's add user-defined functions to our toolkit.\n",
        "\n",
        "*What is a function?*\n",
        "\n",
        "A function is like a subprogram inside of a program. The function is comprised of a named sequence of statements. This is the function definition. The function can then be executed by calling its name.\n",
        "\n",
        "Functions can be used to reduce code duplication and make programs easier to understand and maintain.\n",
        "\n",
        "\n",
        "\n",
        "\n",
        "**Reference**\n",
        "\n",
        "Python visualizer (http://www.pythontutor.com/visualize.html#mode=edit.)\n",
        "\n",
        "Interactive tutorial on for functions: (https://www.w3schools.com/python/python_functions.asp)\n",
        "\n",
        "**Practice**\n",
        "\n",
        "zyBooks Ch 6  Participation Activities 6.7 - 6.16\n",
        "\n",
        "**Learning Outcomes**\n",
        "\n",
        "\n",
        "*   Functions with branches and loops\n",
        "*   Function are objects\n",
        "*   Common errors when working with functions\n",
        "*   Scope of variables and functions\n",
        "*   Namespaces and scope resolution\n",
        "*   Function arguments\n",
        "*   Keyword args and default parameter values\n",
        "*   Arbitrary argument lists\n",
        "*   Multiple function outputs\n",
        "*   Doctstrings use for documenting functions\n",
        "\n",
        "\n",
        "\n",
        "**Example**\n",
        "\n",
        "Use of functions to read numbers and print all, odd and negative numbers.\n"
      ]
    },
    {
      "cell_type": "code",
      "metadata": {
        "id": "BtU25IqKnfkG",
        "outputId": "0c35c934-b2db-42ac-9787-9844e6f7fc59",
        "colab": {
          "base_uri": "https://localhost:8080/"
        }
      },
      "source": [
        "size = 5\n",
        "\n",
        "def get_numbers(num):\n",
        "    numbers = []\n",
        "    user_input = input('Enter {} integers:\\n'.format(num))\n",
        "\n",
        "    i = 0\n",
        "    for token in user_input.split():\n",
        "        number = int(token)     # Convert string input into integer\n",
        "        numbers.append(number)  # Add to numbers list\n",
        "\n",
        "        print(i, number)\n",
        "        i += 1\n",
        "\n",
        "    return numbers\n",
        "\n",
        "def print_all_numbers(numbers):\n",
        "    # Print numbers\n",
        "    print('Numbers:', end=' ')\n",
        "    for token in numbers:\n",
        "       \n",
        "       print(token, end=' ')\n",
        "    print()\n",
        "def print_odd_numbers(numbers):\n",
        "    # Print all odd numbers\n",
        "    print('Odd numbers:', end=' ')\n",
        "    for token in numbers:\n",
        "        if token % 2 !=0:\n",
        "              print(token, end=' ')\n",
        "    print()\n",
        "\n",
        "def print_negative_numbers(numbers):\n",
        "    # Print all negative numbers\n",
        "    for token in numbers:\n",
        "     if token < 0:\n",
        "        print('Negative numbers:', token, end='')\n",
        "\n",
        "nums = get_numbers(size)\n",
        "print_all_numbers(nums)\n",
        "print_odd_numbers(nums)\n",
        "print_negative_numbers(nums)"
      ],
      "execution_count": 1,
      "outputs": [
        {
          "output_type": "stream",
          "text": [
            "Enter 5 integers:\n",
            "42 11 -3 7 12\n",
            "0 42\n",
            "1 11\n",
            "2 -3\n",
            "3 7\n",
            "4 12\n",
            "Numbers: 42 11 -3 7 12 \n",
            "Odd numbers: 11 -3 7 \n",
            "Negative numbers: -3"
          ],
          "name": "stdout"
        }
      ]
    }
  ]
}