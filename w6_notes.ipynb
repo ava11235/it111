{
  "nbformat": 4,
  "nbformat_minor": 0,
  "metadata": {
    "colab": {
      "name": "w6_notes.ipynb",
      "provenance": [],
      "authorship_tag": "ABX9TyM1CV6uhfblSY/PRIgoJHck",
      "include_colab_link": true
    },
    "kernelspec": {
      "name": "python3",
      "display_name": "Python 3"
    }
  },
  "cells": [
    {
      "cell_type": "markdown",
      "metadata": {
        "id": "view-in-github",
        "colab_type": "text"
      },
      "source": [
        "<a href=\"https://colab.research.google.com/github/ava11235/it111/blob/master/w6_notes.ipynb\" target=\"_parent\"><img src=\"https://colab.research.google.com/assets/colab-badge.svg\" alt=\"Open In Colab\"/></a>"
      ]
    },
    {
      "cell_type": "markdown",
      "metadata": {
        "id": "tcJQz_aU7ZYc"
      },
      "source": [
        "This week we will work on a couple coding problems during our class time. No new material will be presented.\n",
        "\n",
        "zyBooks Ch 5 Lab 5.18 Print string in reverse\n",
        "\n",
        "zyBooks Ch 5 5.21 Smallest and largest numbers in a list\n",
        "\n",
        "zyBooks ch 5 5.23 Adjust values in a list by normalizing\n"
      ]
    }
  ]
}