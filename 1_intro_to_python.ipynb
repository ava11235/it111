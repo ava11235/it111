{
  "nbformat": 4,
  "nbformat_minor": 0,
  "metadata": {
    "colab": {
      "name": "1_intro_to_python.ipynb",
      "provenance": [],
      "authorship_tag": "ABX9TyPGhlPEHH8dguodAajji2mS",
      "include_colab_link": true
    },
    "kernelspec": {
      "name": "python3",
      "display_name": "Python 3"
    }
  },
  "cells": [
    {
      "cell_type": "markdown",
      "metadata": {
        "id": "view-in-github",
        "colab_type": "text"
      },
      "source": [
        "<a href=\"https://colab.research.google.com/github/ava11235/it111/blob/master/1_intro_to_python.ipynb\" target=\"_parent\"><img src=\"https://colab.research.google.com/assets/colab-badge.svg\" alt=\"Open In Colab\"/></a>"
      ]
    },
    {
      "cell_type": "markdown",
      "metadata": {
        "id": "SNflEjbtA8T_",
        "colab_type": "text"
      },
      "source": [
        "\n",
        "**Reading**\n",
        "\n",
        "Review the syllabus and post any questions on the Q&A forum\n",
        "\n",
        "\n",
        "zyBooks Ch 1 Introduction to Python 3\n",
        "\n",
        "\n",
        "\n",
        "**Reference**\n",
        "\n",
        "[Python Basics Cheatsheet](https://www.pythoncheatsheet.org/#Python-Basics)\n",
        "\n",
        "\n",
        "\n",
        "**Practice**\n",
        "\n",
        "zyBooks Ch 1 Practice (graded participation activity)\n",
        "\n",
        "**Learning Outcomes**\n",
        "\n",
        "\n",
        "\n",
        "*   Overview of Programming Concepts\n",
        "*   Programming with Python\n",
        "*   Basics of Input and Output (I/O)\n",
        "*   Errors\n",
        "*   Development Environment\n",
        "*   Computers and Programs\n",
        "* Computer Tour\n",
        "* Language History\n",
        "* Whitespace use for formatting in Python\n",
        "\n",
        "\n",
        "**Example**"
      ]
    },
    {
      "cell_type": "code",
      "metadata": {
        "id": "08kd5CKLByoZ",
        "colab_type": "code",
        "colab": {
          "base_uri": "https://localhost:8080/",
          "height": 34
        },
        "outputId": "de8c9345-5520-4d65-9845-d0d38368e13e"
      },
      "source": [
        "#Temperature  converter\n",
        "celsius = float(input(\"Enter the Celsius temperature? \"))"
      ],
      "execution_count": 5,
      "outputs": [
        {
          "output_type": "stream",
          "text": [
            "Enter the Celsius temperature? 25\n"
          ],
          "name": "stdout"
        }
      ]
    },
    {
      "cell_type": "code",
      "metadata": {
        "id": "0VfRgHi9DWrz",
        "colab_type": "code",
        "colab": {
          "base_uri": "https://localhost:8080/",
          "height": 34
        },
        "outputId": "cda7651d-60db-4d45-83d9-15b35fabe793"
      },
      "source": [
        "fahrenheit = 9/5 * celsius + 32\n",
        "print(\"The Fahrenheit temperature is\", fahrenheit)"
      ],
      "execution_count": 6,
      "outputs": [
        {
          "output_type": "stream",
          "text": [
            "The Fahrenheit temperature is 77.0\n"
          ],
          "name": "stdout"
        }
      ]
    },
    {
      "cell_type": "markdown",
      "metadata": {
        "id": "WEp5Tk19By7i",
        "colab_type": "text"
      },
      "source": [
        ""
      ]
    }
  ]
}